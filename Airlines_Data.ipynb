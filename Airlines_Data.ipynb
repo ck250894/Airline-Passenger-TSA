{
 "cells": [
  {
   "cell_type": "code",
   "execution_count": null,
   "metadata": {},
   "outputs": [],
   "source": [
    "import pandas as pd\n",
    "import numpy as np\n",
    "import matplotlib.pyplot as plt\n",
    "import seaborn as sns\n",
    "import altair as alt\n",
    "from statsmodels.tsa.arima_process import ArmaProcess\n",
    "from sklearn.metrics import mean_squared_error"
   ]
  },
  {
   "cell_type": "code",
   "execution_count": 1,
   "metadata": {},
   "outputs": [],
   "source": [
    "import pandas as pd\n",
    "import matplotlib.pyplot as plt\n",
    "from statsmodels.graphics.tsaplots import plot_acf\n",
    "from statsmodels.graphics.tsaplots import plot_pacf\n",
    "from statsmodels.tsa.stattools import adfuller\n",
    "import numpy as np\n",
    "import seaborn as sns"
   ]
  },
  {
   "cell_type": "code",
   "execution_count": 2,
   "metadata": {},
   "outputs": [],
   "source": [
    "airline_data = pd.read_csv(\"dom_citypairs_web.csv\")"
   ]
  },
  {
   "cell_type": "code",
   "execution_count": 39,
   "metadata": {},
   "outputs": [
    {
     "data": {
      "text/html": [
       "<div>\n",
       "<style scoped>\n",
       "    .dataframe tbody tr th:only-of-type {\n",
       "        vertical-align: middle;\n",
       "    }\n",
       "\n",
       "    .dataframe tbody tr th {\n",
       "        vertical-align: top;\n",
       "    }\n",
       "\n",
       "    .dataframe thead th {\n",
       "        text-align: right;\n",
       "    }\n",
       "</style>\n",
       "<table border=\"1\" class=\"dataframe\">\n",
       "  <thead>\n",
       "    <tr style=\"text-align: right;\">\n",
       "      <th></th>\n",
       "      <th>City1</th>\n",
       "      <th>City2</th>\n",
       "      <th>Month</th>\n",
       "      <th>Passenger_Trips</th>\n",
       "      <th>Aircraft_Trips</th>\n",
       "      <th>Passenger_Load_Factor</th>\n",
       "      <th>Distance_GC_(km)</th>\n",
       "      <th>RPKs</th>\n",
       "      <th>ASKs</th>\n",
       "      <th>Seats</th>\n",
       "    </tr>\n",
       "    <tr>\n",
       "      <th>Year_Month_num</th>\n",
       "      <th></th>\n",
       "      <th></th>\n",
       "      <th></th>\n",
       "      <th></th>\n",
       "      <th></th>\n",
       "      <th></th>\n",
       "      <th></th>\n",
       "      <th></th>\n",
       "      <th></th>\n",
       "      <th></th>\n",
       "    </tr>\n",
       "  </thead>\n",
       "  <tbody>\n",
       "    <tr>\n",
       "      <th>1991-05-01</th>\n",
       "      <td>MELBOURNE</td>\n",
       "      <td>MILDURA</td>\n",
       "      <td>33359</td>\n",
       "      <td>2663</td>\n",
       "      <td>260</td>\n",
       "      <td>43.2</td>\n",
       "      <td>457</td>\n",
       "      <td>1216991.0</td>\n",
       "      <td>2817109.0</td>\n",
       "      <td>6164</td>\n",
       "    </tr>\n",
       "    <tr>\n",
       "      <th>2004-01-01</th>\n",
       "      <td>CAIRNS</td>\n",
       "      <td>TOWNSVILLE</td>\n",
       "      <td>37987</td>\n",
       "      <td>6531</td>\n",
       "      <td>305</td>\n",
       "      <td>54.72599296</td>\n",
       "      <td>284</td>\n",
       "      <td>1854804.0</td>\n",
       "      <td>3389256.0</td>\n",
       "      <td>11934</td>\n",
       "    </tr>\n",
       "    <tr>\n",
       "      <th>2014-01-01</th>\n",
       "      <td>DEVONPORT</td>\n",
       "      <td>MELBOURNE</td>\n",
       "      <td>41640</td>\n",
       "      <td>0</td>\n",
       "      <td>0</td>\n",
       "      <td>0</td>\n",
       "      <td>412</td>\n",
       "      <td>0.0</td>\n",
       "      <td>0.0</td>\n",
       "      <td>0</td>\n",
       "    </tr>\n",
       "    <tr>\n",
       "      <th>2003-07-01</th>\n",
       "      <td>HOBART</td>\n",
       "      <td>MELBOURNE</td>\n",
       "      <td>37803</td>\n",
       "      <td>60375</td>\n",
       "      <td>700</td>\n",
       "      <td>70.1</td>\n",
       "      <td>618</td>\n",
       "      <td>37311750.0</td>\n",
       "      <td>53254914.0</td>\n",
       "      <td>86173</td>\n",
       "    </tr>\n",
       "    <tr>\n",
       "      <th>2017-04-01</th>\n",
       "      <td>BRISBANE</td>\n",
       "      <td>CAIRNS</td>\n",
       "      <td>42826</td>\n",
       "      <td>118045</td>\n",
       "      <td>884</td>\n",
       "      <td>82</td>\n",
       "      <td>1391</td>\n",
       "      <td>164200595.0</td>\n",
       "      <td>200224713.0</td>\n",
       "      <td>143943</td>\n",
       "    </tr>\n",
       "    <tr>\n",
       "      <th>2003-08-01</th>\n",
       "      <td>LAUNCESTON</td>\n",
       "      <td>SYDNEY</td>\n",
       "      <td>37834</td>\n",
       "      <td>4523</td>\n",
       "      <td>62</td>\n",
       "      <td>62.8</td>\n",
       "      <td>914</td>\n",
       "      <td>4134022.0</td>\n",
       "      <td>6578058.0</td>\n",
       "      <td>7197</td>\n",
       "    </tr>\n",
       "    <tr>\n",
       "      <th>2019-12-01</th>\n",
       "      <td>PERTH</td>\n",
       "      <td>PORT HEDLAND</td>\n",
       "      <td>43800</td>\n",
       "      <td>29642</td>\n",
       "      <td>379</td>\n",
       "      <td>59.9</td>\n",
       "      <td>1312</td>\n",
       "      <td>38890304.0</td>\n",
       "      <td>64888896.0</td>\n",
       "      <td>49458</td>\n",
       "    </tr>\n",
       "    <tr>\n",
       "      <th>1995-02-01</th>\n",
       "      <td>BRISBANE</td>\n",
       "      <td>CANBERRA</td>\n",
       "      <td>34731</td>\n",
       "      <td>12895</td>\n",
       "      <td>279</td>\n",
       "      <td>56.2</td>\n",
       "      <td>956</td>\n",
       "      <td>12327620.0</td>\n",
       "      <td>21944024.0</td>\n",
       "      <td>22954</td>\n",
       "    </tr>\n",
       "    <tr>\n",
       "      <th>2014-07-01</th>\n",
       "      <td>ADELAIDE</td>\n",
       "      <td>CANBERRA</td>\n",
       "      <td>41821</td>\n",
       "      <td>13659</td>\n",
       "      <td>180</td>\n",
       "      <td>59.4</td>\n",
       "      <td>972</td>\n",
       "      <td>13276548.0</td>\n",
       "      <td>22340448.0</td>\n",
       "      <td>22984</td>\n",
       "    </tr>\n",
       "    <tr>\n",
       "      <th>1996-02-01</th>\n",
       "      <td>BALLINA</td>\n",
       "      <td>SYDNEY</td>\n",
       "      <td>35096</td>\n",
       "      <td>5766</td>\n",
       "      <td>171</td>\n",
       "      <td>68.8</td>\n",
       "      <td>612</td>\n",
       "      <td>3528792.0</td>\n",
       "      <td>5127948.0</td>\n",
       "      <td>8379</td>\n",
       "    </tr>\n",
       "  </tbody>\n",
       "</table>\n",
       "</div>"
      ],
      "text/plain": [
       "                     City1         City2  Month  Passenger_Trips  \\\n",
       "Year_Month_num                                                     \n",
       "1991-05-01       MELBOURNE       MILDURA  33359             2663   \n",
       "2004-01-01          CAIRNS    TOWNSVILLE  37987             6531   \n",
       "2014-01-01       DEVONPORT     MELBOURNE  41640                0   \n",
       "2003-07-01          HOBART     MELBOURNE  37803            60375   \n",
       "2017-04-01        BRISBANE        CAIRNS  42826           118045   \n",
       "2003-08-01      LAUNCESTON        SYDNEY  37834             4523   \n",
       "2019-12-01           PERTH  PORT HEDLAND  43800            29642   \n",
       "1995-02-01        BRISBANE      CANBERRA  34731            12895   \n",
       "2014-07-01        ADELAIDE      CANBERRA  41821            13659   \n",
       "1996-02-01         BALLINA        SYDNEY  35096             5766   \n",
       "\n",
       "                Aircraft_Trips Passenger_Load_Factor  Distance_GC_(km)  \\\n",
       "Year_Month_num                                                           \n",
       "1991-05-01                 260                  43.2               457   \n",
       "2004-01-01                 305           54.72599296               284   \n",
       "2014-01-01                   0                     0               412   \n",
       "2003-07-01                 700                  70.1               618   \n",
       "2017-04-01                 884                    82              1391   \n",
       "2003-08-01                  62                  62.8               914   \n",
       "2019-12-01                 379                  59.9              1312   \n",
       "1995-02-01                 279                  56.2               956   \n",
       "2014-07-01                 180                  59.4               972   \n",
       "1996-02-01                 171                  68.8               612   \n",
       "\n",
       "                       RPKs         ASKs   Seats  \n",
       "Year_Month_num                                    \n",
       "1991-05-01        1216991.0    2817109.0    6164  \n",
       "2004-01-01        1854804.0    3389256.0   11934  \n",
       "2014-01-01              0.0          0.0       0  \n",
       "2003-07-01       37311750.0   53254914.0   86173  \n",
       "2017-04-01      164200595.0  200224713.0  143943  \n",
       "2003-08-01        4134022.0    6578058.0    7197  \n",
       "2019-12-01       38890304.0   64888896.0   49458  \n",
       "1995-02-01       12327620.0   21944024.0   22954  \n",
       "2014-07-01       13276548.0   22340448.0   22984  \n",
       "1996-02-01        3528792.0    5127948.0    8379  "
      ]
     },
     "execution_count": 39,
     "metadata": {},
     "output_type": "execute_result"
    }
   ],
   "source": [
    "data = pd.read_csv(\"dom_citypairs_web.csv\", parse_dates = [[10, 11]], infer_datetime_format = True, index_col = 0)\n",
    "data.sample(10)"
   ]
  },
  {
   "cell_type": "code",
   "execution_count": 40,
   "metadata": {},
   "outputs": [
    {
     "data": {
      "text/html": [
       "<div>\n",
       "<style scoped>\n",
       "    .dataframe tbody tr th:only-of-type {\n",
       "        vertical-align: middle;\n",
       "    }\n",
       "\n",
       "    .dataframe tbody tr th {\n",
       "        vertical-align: top;\n",
       "    }\n",
       "\n",
       "    .dataframe thead th {\n",
       "        text-align: right;\n",
       "    }\n",
       "</style>\n",
       "<table border=\"1\" class=\"dataframe\">\n",
       "  <thead>\n",
       "    <tr style=\"text-align: right;\">\n",
       "      <th></th>\n",
       "      <th>City1</th>\n",
       "      <th>City2</th>\n",
       "      <th>Passenger_Trips</th>\n",
       "    </tr>\n",
       "    <tr>\n",
       "      <th>Year_Month_num</th>\n",
       "      <th></th>\n",
       "      <th></th>\n",
       "      <th></th>\n",
       "    </tr>\n",
       "  </thead>\n",
       "  <tbody>\n",
       "    <tr>\n",
       "      <th>1984-01-01</th>\n",
       "      <td>ADELAIDE</td>\n",
       "      <td>ALICE SPRINGS</td>\n",
       "      <td>15743</td>\n",
       "    </tr>\n",
       "    <tr>\n",
       "      <th>1984-01-01</th>\n",
       "      <td>ADELAIDE</td>\n",
       "      <td>BRISBANE</td>\n",
       "      <td>3781</td>\n",
       "    </tr>\n",
       "    <tr>\n",
       "      <th>1984-01-01</th>\n",
       "      <td>ADELAIDE</td>\n",
       "      <td>CANBERRA</td>\n",
       "      <td>1339</td>\n",
       "    </tr>\n",
       "    <tr>\n",
       "      <th>1984-01-01</th>\n",
       "      <td>ADELAIDE</td>\n",
       "      <td>DARWIN</td>\n",
       "      <td>3050</td>\n",
       "    </tr>\n",
       "    <tr>\n",
       "      <th>1984-01-01</th>\n",
       "      <td>ADELAIDE</td>\n",
       "      <td>GOLD COAST</td>\n",
       "      <td>1596</td>\n",
       "    </tr>\n",
       "  </tbody>\n",
       "</table>\n",
       "</div>"
      ],
      "text/plain": [
       "                   City1          City2  Passenger_Trips\n",
       "Year_Month_num                                          \n",
       "1984-01-01      ADELAIDE  ALICE SPRINGS            15743\n",
       "1984-01-01      ADELAIDE       BRISBANE             3781\n",
       "1984-01-01      ADELAIDE       CANBERRA             1339\n",
       "1984-01-01      ADELAIDE         DARWIN             3050\n",
       "1984-01-01      ADELAIDE     GOLD COAST             1596"
      ]
     },
     "execution_count": 40,
     "metadata": {},
     "output_type": "execute_result"
    }
   ],
   "source": [
    "# Choosing the desired columns - \n",
    "data = data[[\"City1\", \"City2\", \"Passenger_Trips\"]]\n",
    "data.head()"
   ]
  },
  {
   "cell_type": "code",
   "execution_count": null,
   "metadata": {},
   "outputs": [],
   "source": []
  },
  {
   "cell_type": "code",
   "execution_count": null,
   "metadata": {},
   "outputs": [],
   "source": []
  },
  {
   "cell_type": "code",
   "execution_count": 5,
   "metadata": {},
   "outputs": [],
   "source": [
    "# Filter according to City2 here - "
   ]
  },
  {
   "cell_type": "code",
   "execution_count": 41,
   "metadata": {},
   "outputs": [
    {
     "data": {
      "text/html": [
       "<div>\n",
       "<style scoped>\n",
       "    .dataframe tbody tr th:only-of-type {\n",
       "        vertical-align: middle;\n",
       "    }\n",
       "\n",
       "    .dataframe tbody tr th {\n",
       "        vertical-align: top;\n",
       "    }\n",
       "\n",
       "    .dataframe thead th {\n",
       "        text-align: right;\n",
       "    }\n",
       "</style>\n",
       "<table border=\"1\" class=\"dataframe\">\n",
       "  <thead>\n",
       "    <tr style=\"text-align: right;\">\n",
       "      <th></th>\n",
       "      <th>Passenger_Trips</th>\n",
       "    </tr>\n",
       "    <tr>\n",
       "      <th>Year_Month_num</th>\n",
       "      <th></th>\n",
       "    </tr>\n",
       "  </thead>\n",
       "  <tbody>\n",
       "    <tr>\n",
       "      <th>1984-01-01</th>\n",
       "      <td>800530</td>\n",
       "    </tr>\n",
       "    <tr>\n",
       "      <th>1984-02-01</th>\n",
       "      <td>660289</td>\n",
       "    </tr>\n",
       "    <tr>\n",
       "      <th>1984-03-01</th>\n",
       "      <td>739785</td>\n",
       "    </tr>\n",
       "    <tr>\n",
       "      <th>1984-04-01</th>\n",
       "      <td>770776</td>\n",
       "    </tr>\n",
       "    <tr>\n",
       "      <th>1984-05-01</th>\n",
       "      <td>813317</td>\n",
       "    </tr>\n",
       "  </tbody>\n",
       "</table>\n",
       "</div>"
      ],
      "text/plain": [
       "                Passenger_Trips\n",
       "Year_Month_num                 \n",
       "1984-01-01               800530\n",
       "1984-02-01               660289\n",
       "1984-03-01               739785\n",
       "1984-04-01               770776\n",
       "1984-05-01               813317"
      ]
     },
     "execution_count": 41,
     "metadata": {},
     "output_type": "execute_result"
    }
   ],
   "source": [
    "# Aggregating to total total passengers in each month -\n",
    "total_passengers = data.groupby([data.index]).agg({\"Passenger_Trips\" : \"sum\"})\n",
    "total_passengers.head()"
   ]
  },
  {
   "cell_type": "code",
   "execution_count": null,
   "metadata": {},
   "outputs": [],
   "source": []
  },
  {
   "cell_type": "code",
   "execution_count": 50,
   "metadata": {},
   "outputs": [
    {
     "data": {
      "text/plain": [
       "Year_Month_num\n",
       "1984-12-01    772094.333333\n",
       "1985-01-01    775948.666667\n",
       "1985-02-01    777274.583333\n",
       "1985-03-01    782388.583333\n",
       "1985-04-01    785351.333333\n",
       "Name: Passenger_Trips, dtype: float64"
      ]
     },
     "execution_count": 50,
     "metadata": {},
     "output_type": "execute_result"
    }
   ],
   "source": [
    "temp = total_passengers[\"Passenger_Trips\"].rolling(12).mean().dropna()\n",
    "temp.head()"
   ]
  },
  {
   "cell_type": "code",
   "execution_count": 51,
   "metadata": {},
   "outputs": [],
   "source": [
    "temp = temp[\"2000\":'2020']"
   ]
  },
  {
   "cell_type": "code",
   "execution_count": 52,
   "metadata": {},
   "outputs": [
    {
     "data": {
      "text/plain": [
       "[<matplotlib.lines.Line2D at 0x7fee97a7f940>]"
      ]
     },
     "execution_count": 52,
     "metadata": {},
     "output_type": "execute_result"
    },
    {
     "data": {
      "image/png": "[encoded data removed]",
      "text/plain": [
       "<Figure size 432x288 with 1 Axes>"
      ]
     },
     "metadata": {
      "needs_background": "light"
     },
     "output_type": "display_data"
    }
   ],
   "source": [
    "plt.plot(temp)"
   ]
  },
  {
   "cell_type": "code",
   "execution_count": 7,
   "metadata": {},
   "outputs": [
    {
     "data": {
      "text/plain": [
       "[<matplotlib.lines.Line2D at 0x7fee973d13a0>]"
      ]
     },
     "execution_count": 7,
     "metadata": {},
     "output_type": "execute_result"
    },
    {
     "data": {
      "image/png": "[encoded data removed]",
      "text/plain": [
       "<Figure size 432x288 with 1 Axes>"
      ]
     },
     "metadata": {
      "needs_background": "light"
     },
     "output_type": "display_data"
    }
   ],
   "source": [
    "plt.plot(total_passengers[\"Passenger_Trips\"])"
   ]
  },
  {
   "cell_type": "code",
   "execution_count": 8,
   "metadata": {},
   "outputs": [
    {
     "data": {
      "image/png": "[encoded data removed]",
      "text/plain": [
       "<Figure size 432x288 with 1 Axes>"
      ]
     },
     "metadata": {
      "needs_background": "light"
     },
     "output_type": "display_data"
    }
   ],
   "source": [
    "# ACF PACF - \n",
    "plot_acf(total_passengers[\"Passenger_Trips\"], lags = 20, zero = False)\n",
    "plt.show()"
   ]
  },
  {
   "cell_type": "code",
   "execution_count": 9,
   "metadata": {},
   "outputs": [
    {
     "data": {
      "image/png": "[encoded data removed]",
      "text/plain": [
       "<Figure size 432x288 with 1 Axes>"
      ]
     },
     "metadata": {
      "needs_background": "light"
     },
     "output_type": "display_data"
    }
   ],
   "source": [
    "plot_pacf(total_passengers[\"Passenger_Trips\"], lags = 20, zero = False)\n",
    "plt.show()"
   ]
  },
  {
   "cell_type": "code",
   "execution_count": 10,
   "metadata": {},
   "outputs": [
    {
     "name": "stdout",
     "output_type": "stream",
     "text": [
      "The p-statistic from the ADFuller test is - 0.4683\n",
      "Based on p-value we can say that the series is non-stationary.\n"
     ]
    }
   ],
   "source": [
    "# ADF Test - \n",
    "results = adfuller(total_passengers[\"Passenger_Trips\"])\n",
    "print(f\"The p-statistic from the ADFuller test is - {round(results[1], 4)}\")\n",
    "if results[1] > 0.05:\n",
    "    print(\"Based on p-value we can say that the series is non-stationary.\")\n",
    "else:\n",
    "    print(\"Based on p-value we can say that the series is stationary.\")\n"
   ]
  },
  {
   "cell_type": "code",
   "execution_count": 11,
   "metadata": {},
   "outputs": [],
   "source": [
    "# EXPLORING MULTIPLICATIVE AND ADDITIVE DECOMPOSITIONS - "
   ]
  },
  {
   "cell_type": "code",
   "execution_count": 12,
   "metadata": {},
   "outputs": [
    {
     "data": {
      "image/png": "[encoded data removed]",
      "text/plain": [
       "<Figure size 432x288 with 4 Axes>"
      ]
     },
     "metadata": {
      "needs_background": "light"
     },
     "output_type": "display_data"
    }
   ],
   "source": [
    "# Decomposing the time-series -\n",
    "from statsmodels.tsa.seasonal import seasonal_decompose\n",
    "from dateutil.parser import parse\n",
    "\n",
    "# Multiplicative Decomposition \n",
    "result_mul = seasonal_decompose(total_passengers[\"Passenger_Trips\"], model='multiplicative', extrapolate_trend='freq')\n",
    "\n",
    "# Additive Decomposition\n",
    "result_add = seasonal_decompose(total_passengers[\"Passenger_Trips\"], model='additive', extrapolate_trend='freq')\n",
    "\n",
    "# Plot\n",
    "result_mul.plot().suptitle('Multiplicative Decompose', fontsize=22)\n",
    "plt.tight_layout()\n",
    "plt.show()"
   ]
  },
  {
   "cell_type": "code",
   "execution_count": 13,
   "metadata": {},
   "outputs": [
    {
     "data": {
      "image/png": "[encoded data removed]",
      "text/plain": [
       "<Figure size 432x288 with 4 Axes>"
      ]
     },
     "metadata": {
      "needs_background": "light"
     },
     "output_type": "display_data"
    }
   ],
   "source": [
    "result_add.plot().suptitle('Additive Decompose', fontsize=22)\n",
    "plt.tight_layout()\n",
    "plt.show()"
   ]
  },
  {
   "cell_type": "code",
   "execution_count": 14,
   "metadata": {},
   "outputs": [
    {
     "name": "stdout",
     "output_type": "stream",
     "text": [
      "The p-statistic from the ADFuller test is - 0.0001\n",
      "Based on p-value we can say that the series is stationary.\n"
     ]
    }
   ],
   "source": [
    "# From the 2-graphs we can say that multiplicative decomposition is better for our data.\n",
    "# Checking the ADFuller test for the same.\n",
    "adf_res = adfuller(result_mul.resid)\n",
    "print(f\"The p-statistic from the ADFuller test is - {round(adf_res[1], 4)}\")\n",
    "if adf_res[1] > 0.05:\n",
    "    print(\"Based on p-value we can say that the series is non-stationary.\")\n",
    "else:\n",
    "    print(\"Based on p-value we can say that the series is stationary.\")\n"
   ]
  },
  {
   "cell_type": "code",
   "execution_count": 15,
   "metadata": {},
   "outputs": [
    {
     "data": {
      "text/html": [
       "<div>\n",
       "<style scoped>\n",
       "    .dataframe tbody tr th:only-of-type {\n",
       "        vertical-align: middle;\n",
       "    }\n",
       "\n",
       "    .dataframe tbody tr th {\n",
       "        vertical-align: top;\n",
       "    }\n",
       "\n",
       "    .dataframe thead th {\n",
       "        text-align: right;\n",
       "    }\n",
       "</style>\n",
       "<table border=\"1\" class=\"dataframe\">\n",
       "  <thead>\n",
       "    <tr style=\"text-align: right;\">\n",
       "      <th></th>\n",
       "      <th>Passenger_Trips</th>\n",
       "      <th>Transformed</th>\n",
       "    </tr>\n",
       "    <tr>\n",
       "      <th>Year_Month_num</th>\n",
       "      <th></th>\n",
       "      <th></th>\n",
       "    </tr>\n",
       "  </thead>\n",
       "  <tbody>\n",
       "    <tr>\n",
       "      <th>1984-02-01</th>\n",
       "      <td>660289</td>\n",
       "      <td>-0.192596</td>\n",
       "    </tr>\n",
       "    <tr>\n",
       "      <th>1984-03-01</th>\n",
       "      <td>739785</td>\n",
       "      <td>0.113682</td>\n",
       "    </tr>\n",
       "    <tr>\n",
       "      <th>1984-04-01</th>\n",
       "      <td>770776</td>\n",
       "      <td>0.041038</td>\n",
       "    </tr>\n",
       "    <tr>\n",
       "      <th>1984-05-01</th>\n",
       "      <td>813317</td>\n",
       "      <td>0.053723</td>\n",
       "    </tr>\n",
       "    <tr>\n",
       "      <th>1984-06-01</th>\n",
       "      <td>700510</td>\n",
       "      <td>-0.149312</td>\n",
       "    </tr>\n",
       "  </tbody>\n",
       "</table>\n",
       "</div>"
      ],
      "text/plain": [
       "                Passenger_Trips  Transformed\n",
       "Year_Month_num                              \n",
       "1984-02-01               660289    -0.192596\n",
       "1984-03-01               739785     0.113682\n",
       "1984-04-01               770776     0.041038\n",
       "1984-05-01               813317     0.053723\n",
       "1984-06-01               700510    -0.149312"
      ]
     },
     "execution_count": 15,
     "metadata": {},
     "output_type": "execute_result"
    }
   ],
   "source": [
    "# Given the findings above, we decide to go for log transformation and differencing the series to stationarize it.\n",
    "total_passengers[\"Transformed\"] = np.log(total_passengers[\"Passenger_Trips\"]).diff()\n",
    "total_passengers.dropna(inplace=True)\n",
    "total_passengers.head()"
   ]
  },
  {
   "cell_type": "code",
   "execution_count": 16,
   "metadata": {},
   "outputs": [
    {
     "data": {
      "image/png": "[encoded data removed]",
      "text/plain": [
       "<Figure size 432x288 with 1 Axes>"
      ]
     },
     "metadata": {
      "needs_background": "light"
     },
     "output_type": "display_data"
    }
   ],
   "source": [
    "# Confirming with plot and ADFuller test - \n",
    "plt.plot(total_passengers[\"Transformed\"])\n",
    "plt.show()"
   ]
  },
  {
   "cell_type": "code",
   "execution_count": 17,
   "metadata": {},
   "outputs": [
    {
     "name": "stdout",
     "output_type": "stream",
     "text": [
      "The p-statistic from the ADFuller test is - 0.0\n",
      "Based on p-value we can say that the series is stationary.\n"
     ]
    }
   ],
   "source": [
    "adf_res = adfuller(total_passengers[\"Transformed\"])\n",
    "print(f\"The p-statistic from the ADFuller test is - {round(adf_res[1], 4)}\")\n",
    "if adf_res[1] > 0.05:\n",
    "    print(\"Based on p-value we can say that the series is non-stationary.\")\n",
    "else:\n",
    "    print(\"Based on p-value we can say that the series is stationary.\")"
   ]
  },
  {
   "cell_type": "code",
   "execution_count": 18,
   "metadata": {},
   "outputs": [],
   "source": [
    "# Now our seriers is ready for modelling."
   ]
  },
  {
   "cell_type": "code",
   "execution_count": 19,
   "metadata": {},
   "outputs": [
    {
     "name": "stdout",
     "output_type": "stream",
     "text": [
      "6\n",
      "0 0 0\n",
      "16.6667 % Completed\n",
      "0 1 0\n",
      "33.3333 % Completed\n",
      "1 0 0\n",
      "50.0 % Completed\n",
      "1 1 0\n",
      "66.6667 % Completed\n",
      "2 0 0\n",
      "83.3333 % Completed\n",
      "2 1 0\n",
      "100.0 % Completed\n"
     ]
    }
   ],
   "source": [
    "\n",
    "i_range = 3\n",
    "j_range = 2\n",
    "k_range = 1\n",
    "\n",
    "total = i_range * j_range * k_range\n",
    "print(total)\n",
    "count = 0\n",
    "for i in range(i_range):\n",
    "    for j in range(j_range):\n",
    "        for k in range(k_range):\n",
    "            print(i, j ,k)\n",
    "            count = count+1\n",
    "            print(f\"{round(count/total * 100, 4)} % Completed\")"
   ]
  },
  {
   "cell_type": "code",
   "execution_count": null,
   "metadata": {},
   "outputs": [],
   "source": []
  },
  {
   "cell_type": "code",
   "execution_count": 20,
   "metadata": {},
   "outputs": [
    {
     "data": {
      "text/html": [
       "<div>\n",
       "<style scoped>\n",
       "    .dataframe tbody tr th:only-of-type {\n",
       "        vertical-align: middle;\n",
       "    }\n",
       "\n",
       "    .dataframe tbody tr th {\n",
       "        vertical-align: top;\n",
       "    }\n",
       "\n",
       "    .dataframe thead th {\n",
       "        text-align: right;\n",
       "    }\n",
       "</style>\n",
       "<table border=\"1\" class=\"dataframe\">\n",
       "  <thead>\n",
       "    <tr style=\"text-align: right;\">\n",
       "      <th></th>\n",
       "      <th>City1</th>\n",
       "      <th>City2</th>\n",
       "      <th>Passenger_Trips</th>\n",
       "      <th>year</th>\n",
       "      <th>month</th>\n",
       "    </tr>\n",
       "    <tr>\n",
       "      <th>Year_Month_num</th>\n",
       "      <th></th>\n",
       "      <th></th>\n",
       "      <th></th>\n",
       "      <th></th>\n",
       "      <th></th>\n",
       "    </tr>\n",
       "  </thead>\n",
       "  <tbody>\n",
       "    <tr>\n",
       "      <th>1984-01-01</th>\n",
       "      <td>ADELAIDE</td>\n",
       "      <td>ALICE SPRINGS</td>\n",
       "      <td>15743</td>\n",
       "      <td>1984</td>\n",
       "      <td>Jan</td>\n",
       "    </tr>\n",
       "    <tr>\n",
       "      <th>1984-01-01</th>\n",
       "      <td>ADELAIDE</td>\n",
       "      <td>BRISBANE</td>\n",
       "      <td>3781</td>\n",
       "      <td>1984</td>\n",
       "      <td>Jan</td>\n",
       "    </tr>\n",
       "    <tr>\n",
       "      <th>1984-01-01</th>\n",
       "      <td>ADELAIDE</td>\n",
       "      <td>CANBERRA</td>\n",
       "      <td>1339</td>\n",
       "      <td>1984</td>\n",
       "      <td>Jan</td>\n",
       "    </tr>\n",
       "    <tr>\n",
       "      <th>1984-01-01</th>\n",
       "      <td>ADELAIDE</td>\n",
       "      <td>DARWIN</td>\n",
       "      <td>3050</td>\n",
       "      <td>1984</td>\n",
       "      <td>Jan</td>\n",
       "    </tr>\n",
       "    <tr>\n",
       "      <th>1984-01-01</th>\n",
       "      <td>ADELAIDE</td>\n",
       "      <td>GOLD COAST</td>\n",
       "      <td>1596</td>\n",
       "      <td>1984</td>\n",
       "      <td>Jan</td>\n",
       "    </tr>\n",
       "  </tbody>\n",
       "</table>\n",
       "</div>"
      ],
      "text/plain": [
       "                   City1          City2  Passenger_Trips  year month\n",
       "Year_Month_num                                                      \n",
       "1984-01-01      ADELAIDE  ALICE SPRINGS            15743  1984   Jan\n",
       "1984-01-01      ADELAIDE       BRISBANE             3781  1984   Jan\n",
       "1984-01-01      ADELAIDE       CANBERRA             1339  1984   Jan\n",
       "1984-01-01      ADELAIDE         DARWIN             3050  1984   Jan\n",
       "1984-01-01      ADELAIDE     GOLD COAST             1596  1984   Jan"
      ]
     },
     "execution_count": 20,
     "metadata": {},
     "output_type": "execute_result"
    }
   ],
   "source": [
    "data['year'] = [d.year for d in data.index]\n",
    "data['month'] = [d.strftime('%b') for d in data.index]\n",
    "years = data['year'].unique()\n",
    "data.head()"
   ]
  },
  {
   "cell_type": "code",
   "execution_count": 21,
   "metadata": {},
   "outputs": [
    {
     "data": {
      "text/html": [
       "<div>\n",
       "<style scoped>\n",
       "    .dataframe tbody tr th:only-of-type {\n",
       "        vertical-align: middle;\n",
       "    }\n",
       "\n",
       "    .dataframe tbody tr th {\n",
       "        vertical-align: top;\n",
       "    }\n",
       "\n",
       "    .dataframe thead th {\n",
       "        text-align: right;\n",
       "    }\n",
       "</style>\n",
       "<table border=\"1\" class=\"dataframe\">\n",
       "  <thead>\n",
       "    <tr style=\"text-align: right;\">\n",
       "      <th></th>\n",
       "      <th>Passenger_Trips</th>\n",
       "      <th>Transformed</th>\n",
       "      <th>year</th>\n",
       "      <th>month</th>\n",
       "    </tr>\n",
       "    <tr>\n",
       "      <th>Year_Month_num</th>\n",
       "      <th></th>\n",
       "      <th></th>\n",
       "      <th></th>\n",
       "      <th></th>\n",
       "    </tr>\n",
       "  </thead>\n",
       "  <tbody>\n",
       "    <tr>\n",
       "      <th>1984-02-01</th>\n",
       "      <td>660289</td>\n",
       "      <td>-0.192596</td>\n",
       "      <td>1984</td>\n",
       "      <td>Feb</td>\n",
       "    </tr>\n",
       "    <tr>\n",
       "      <th>1984-03-01</th>\n",
       "      <td>739785</td>\n",
       "      <td>0.113682</td>\n",
       "      <td>1984</td>\n",
       "      <td>Mar</td>\n",
       "    </tr>\n",
       "    <tr>\n",
       "      <th>1984-04-01</th>\n",
       "      <td>770776</td>\n",
       "      <td>0.041038</td>\n",
       "      <td>1984</td>\n",
       "      <td>Apr</td>\n",
       "    </tr>\n",
       "    <tr>\n",
       "      <th>1984-05-01</th>\n",
       "      <td>813317</td>\n",
       "      <td>0.053723</td>\n",
       "      <td>1984</td>\n",
       "      <td>May</td>\n",
       "    </tr>\n",
       "    <tr>\n",
       "      <th>1984-06-01</th>\n",
       "      <td>700510</td>\n",
       "      <td>-0.149312</td>\n",
       "      <td>1984</td>\n",
       "      <td>Jun</td>\n",
       "    </tr>\n",
       "  </tbody>\n",
       "</table>\n",
       "</div>"
      ],
      "text/plain": [
       "                Passenger_Trips  Transformed  year month\n",
       "Year_Month_num                                          \n",
       "1984-02-01               660289    -0.192596  1984   Feb\n",
       "1984-03-01               739785     0.113682  1984   Mar\n",
       "1984-04-01               770776     0.041038  1984   Apr\n",
       "1984-05-01               813317     0.053723  1984   May\n",
       "1984-06-01               700510    -0.149312  1984   Jun"
      ]
     },
     "execution_count": 21,
     "metadata": {},
     "output_type": "execute_result"
    }
   ],
   "source": [
    "total_passengers['year'] = [d.year for d in total_passengers.index]\n",
    "total_passengers['month'] = [d.strftime('%b') for d in total_passengers.index]\n",
    "years = total_passengers['year'].unique()\n",
    "total_passengers.head()"
   ]
  },
  {
   "cell_type": "code",
   "execution_count": 26,
   "metadata": {},
   "outputs": [
    {
     "data": {
      "text/html": [
       "<div>\n",
       "<style scoped>\n",
       "    .dataframe tbody tr th:only-of-type {\n",
       "        vertical-align: middle;\n",
       "    }\n",
       "\n",
       "    .dataframe tbody tr th {\n",
       "        vertical-align: top;\n",
       "    }\n",
       "\n",
       "    .dataframe thead th {\n",
       "        text-align: right;\n",
       "    }\n",
       "</style>\n",
       "<table border=\"1\" class=\"dataframe\">\n",
       "  <thead>\n",
       "    <tr style=\"text-align: right;\">\n",
       "      <th></th>\n",
       "      <th>Passenger_Trips</th>\n",
       "      <th>Transformed</th>\n",
       "      <th>year</th>\n",
       "      <th>month</th>\n",
       "    </tr>\n",
       "    <tr>\n",
       "      <th>Year_Month_num</th>\n",
       "      <th></th>\n",
       "      <th></th>\n",
       "      <th></th>\n",
       "      <th></th>\n",
       "    </tr>\n",
       "  </thead>\n",
       "  <tbody>\n",
       "    <tr>\n",
       "      <th>2000-01-01</th>\n",
       "      <td>2160635</td>\n",
       "      <td>0.006659</td>\n",
       "      <td>2000</td>\n",
       "      <td>Jan</td>\n",
       "    </tr>\n",
       "    <tr>\n",
       "      <th>2000-02-01</th>\n",
       "      <td>2044303</td>\n",
       "      <td>-0.055345</td>\n",
       "      <td>2000</td>\n",
       "      <td>Feb</td>\n",
       "    </tr>\n",
       "    <tr>\n",
       "      <th>2000-03-01</th>\n",
       "      <td>2282132</td>\n",
       "      <td>0.110053</td>\n",
       "      <td>2000</td>\n",
       "      <td>Mar</td>\n",
       "    </tr>\n",
       "    <tr>\n",
       "      <th>2000-04-01</th>\n",
       "      <td>2230345</td>\n",
       "      <td>-0.022954</td>\n",
       "      <td>2000</td>\n",
       "      <td>Apr</td>\n",
       "    </tr>\n",
       "    <tr>\n",
       "      <th>2000-05-01</th>\n",
       "      <td>2162880</td>\n",
       "      <td>-0.030716</td>\n",
       "      <td>2000</td>\n",
       "      <td>May</td>\n",
       "    </tr>\n",
       "  </tbody>\n",
       "</table>\n",
       "</div>"
      ],
      "text/plain": [
       "                Passenger_Trips  Transformed  year month\n",
       "Year_Month_num                                          \n",
       "2000-01-01              2160635     0.006659  2000   Jan\n",
       "2000-02-01              2044303    -0.055345  2000   Feb\n",
       "2000-03-01              2282132     0.110053  2000   Mar\n",
       "2000-04-01              2230345    -0.022954  2000   Apr\n",
       "2000-05-01              2162880    -0.030716  2000   May"
      ]
     },
     "execution_count": 26,
     "metadata": {},
     "output_type": "execute_result"
    }
   ],
   "source": [
    "temp = total_passengers[\"2000\":\"2020\"]\n",
    "temp.head()"
   ]
  },
  {
   "cell_type": "code",
   "execution_count": null,
   "metadata": {},
   "outputs": [],
   "source": [
    "fig, axes = plt.subplots(1, 1, figsize=(10,7), dpi= 80)\n",
    "sns.boxplot(x='year', y='Passenger_Trips', data=temp,\n",
    "            ax=axes)\n",
    "\n",
    "axes.set_title('Year-wise Box Plot\\n(The Trend)', fontsize=18)\n",
    "plt.show()"
   ]
  },
  {
   "cell_type": "code",
   "execution_count": 36,
   "metadata": {
    "scrolled": true
   },
   "outputs": [
    {
     "data": {
      "image/png": "[encoded data removed]",
      "text/plain": [
       "<Figure size 800x560 with 1 Axes>"
      ]
     },
     "metadata": {
      "needs_background": "light"
     },
     "output_type": "display_data"
    }
   ],
   "source": [
    "fig, axes = plt.subplots(1, 1, figsize=(10,7), dpi= 80)\n",
    "sns.boxplot(x='year', y='Passenger_Trips', data=temp,\n",
    "            ax=axes)\n",
    "# sns.boxplot(x='month', y='Passenger_Trips', data=temp)\n",
    "axes.set_title('Year-wise Box Plot\\n(The Trend)', fontsize=18); \n",
    "#axes[1].set_title('Month-wise Box Plot\\n(The Seasonality)', fontsize=18)\n",
    "plt.show()"
   ]
  },
  {
   "cell_type": "code",
   "execution_count": 37,
   "metadata": {},
   "outputs": [
    {
     "data": {
      "text/html": [
       "<div>\n",
       "<style scoped>\n",
       "    .dataframe tbody tr th:only-of-type {\n",
       "        vertical-align: middle;\n",
       "    }\n",
       "\n",
       "    .dataframe tbody tr th {\n",
       "        vertical-align: top;\n",
       "    }\n",
       "\n",
       "    .dataframe thead th {\n",
       "        text-align: right;\n",
       "    }\n",
       "</style>\n",
       "<table border=\"1\" class=\"dataframe\">\n",
       "  <thead>\n",
       "    <tr style=\"text-align: right;\">\n",
       "      <th></th>\n",
       "      <th>Passenger_Trips</th>\n",
       "      <th>Transformed</th>\n",
       "      <th>year</th>\n",
       "      <th>month</th>\n",
       "    </tr>\n",
       "    <tr>\n",
       "      <th>Year_Month_num</th>\n",
       "      <th></th>\n",
       "      <th></th>\n",
       "      <th></th>\n",
       "      <th></th>\n",
       "    </tr>\n",
       "  </thead>\n",
       "  <tbody>\n",
       "    <tr>\n",
       "      <th>2016-01-01</th>\n",
       "      <td>4444139</td>\n",
       "      <td>-0.045665</td>\n",
       "      <td>2016</td>\n",
       "      <td>Jan</td>\n",
       "    </tr>\n",
       "    <tr>\n",
       "      <th>2016-02-01</th>\n",
       "      <td>4109247</td>\n",
       "      <td>-0.078346</td>\n",
       "      <td>2016</td>\n",
       "      <td>Feb</td>\n",
       "    </tr>\n",
       "    <tr>\n",
       "      <th>2016-03-01</th>\n",
       "      <td>4568852</td>\n",
       "      <td>0.106022</td>\n",
       "      <td>2016</td>\n",
       "      <td>Mar</td>\n",
       "    </tr>\n",
       "    <tr>\n",
       "      <th>2016-04-01</th>\n",
       "      <td>4426706</td>\n",
       "      <td>-0.031606</td>\n",
       "      <td>2016</td>\n",
       "      <td>Apr</td>\n",
       "    </tr>\n",
       "    <tr>\n",
       "      <th>2016-05-01</th>\n",
       "      <td>4269438</td>\n",
       "      <td>-0.036174</td>\n",
       "      <td>2016</td>\n",
       "      <td>May</td>\n",
       "    </tr>\n",
       "  </tbody>\n",
       "</table>\n",
       "</div>"
      ],
      "text/plain": [
       "                Passenger_Trips  Transformed  year month\n",
       "Year_Month_num                                          \n",
       "2016-01-01              4444139    -0.045665  2016   Jan\n",
       "2016-02-01              4109247    -0.078346  2016   Feb\n",
       "2016-03-01              4568852     0.106022  2016   Mar\n",
       "2016-04-01              4426706    -0.031606  2016   Apr\n",
       "2016-05-01              4269438    -0.036174  2016   May"
      ]
     },
     "execution_count": 37,
     "metadata": {},
     "output_type": "execute_result"
    }
   ],
   "source": [
    "temp = total_passengers[\"2016\":\"2019\"]\n",
    "temp.head()"
   ]
  },
  {
   "cell_type": "code",
   "execution_count": 38,
   "metadata": {},
   "outputs": [
    {
     "data": {
      "image/png": "[encoded data removed]",
      "text/plain": [
       "<Figure size 800x560 with 1 Axes>"
      ]
     },
     "metadata": {
      "needs_background": "light"
     },
     "output_type": "display_data"
    }
   ],
   "source": [
    "fig, axes = plt.subplots(1, 1, figsize=(10,7), dpi= 80)\n",
    "sns.boxplot(x='month', y='Passenger_Trips', data=temp)\n",
    "axes.set_title('Month-wise Box Plot\\n(The Seasonality)', fontsize=18)\n",
    "plt.show()"
   ]
  },
  {
   "cell_type": "code",
   "execution_count": null,
   "metadata": {},
   "outputs": [],
   "source": [
    "fig, axes = plt.subplots(figsize=(10,7), dpi= 80)\n",
    "axes.set_title('Month-wise Box Plot\\n(The Seasonality)', fontsize=18)"
   ]
  },
  {
   "cell_type": "code",
   "execution_count": null,
   "metadata": {},
   "outputs": [],
   "source": []
  },
  {
   "cell_type": "code",
   "execution_count": null,
   "metadata": {},
   "outputs": [],
   "source": [
    "# Sequence input - X, Y\n",
    "# Option 2010 to 2020 March\n",
    "# Train , test data - \n",
    "# Train the model\n",
    "# Predict\n",
    "# Show the graph\n"
   ]
  },
  {
   "cell_type": "code",
   "execution_count": null,
   "metadata": {},
   "outputs": [],
   "source": []
  },
  {
   "cell_type": "code",
   "execution_count": 102,
   "metadata": {},
   "outputs": [
    {
     "data": {
      "text/html": [
       "<div>\n",
       "<style scoped>\n",
       "    .dataframe tbody tr th:only-of-type {\n",
       "        vertical-align: middle;\n",
       "    }\n",
       "\n",
       "    .dataframe tbody tr th {\n",
       "        vertical-align: top;\n",
       "    }\n",
       "\n",
       "    .dataframe thead th {\n",
       "        text-align: right;\n",
       "    }\n",
       "</style>\n",
       "<table border=\"1\" class=\"dataframe\">\n",
       "  <thead>\n",
       "    <tr style=\"text-align: right;\">\n",
       "      <th></th>\n",
       "      <th>Passenger_Trips</th>\n",
       "    </tr>\n",
       "    <tr>\n",
       "      <th>Year_Month_num</th>\n",
       "      <th></th>\n",
       "    </tr>\n",
       "  </thead>\n",
       "  <tbody>\n",
       "    <tr>\n",
       "      <th>1984-01-01</th>\n",
       "      <td>394432</td>\n",
       "    </tr>\n",
       "    <tr>\n",
       "      <th>1984-02-01</th>\n",
       "      <td>372287</td>\n",
       "    </tr>\n",
       "    <tr>\n",
       "      <th>1984-03-01</th>\n",
       "      <td>408661</td>\n",
       "    </tr>\n",
       "    <tr>\n",
       "      <th>1984-04-01</th>\n",
       "      <td>407946</td>\n",
       "    </tr>\n",
       "    <tr>\n",
       "      <th>1984-05-01</th>\n",
       "      <td>434844</td>\n",
       "    </tr>\n",
       "  </tbody>\n",
       "</table>\n",
       "</div>"
      ],
      "text/plain": [
       "                Passenger_Trips\n",
       "Year_Month_num                 \n",
       "1984-01-01               394432\n",
       "1984-02-01               372287\n",
       "1984-03-01               408661\n",
       "1984-04-01               407946\n",
       "1984-05-01               434844"
      ]
     },
     "execution_count": 102,
     "metadata": {},
     "output_type": "execute_result"
    }
   ],
   "source": [
    "# City-wise box-plots\n",
    "temp = data[data['City2'] == \"SYDNEY\"]\n",
    "temp = temp.groupby(temp.index).agg({\"Passenger_Trips\" : \"sum\"})\n",
    "temp.head()"
   ]
  },
  {
   "cell_type": "code",
   "execution_count": 103,
   "metadata": {},
   "outputs": [
    {
     "data": {
      "text/html": [
       "<div>\n",
       "<style scoped>\n",
       "    .dataframe tbody tr th:only-of-type {\n",
       "        vertical-align: middle;\n",
       "    }\n",
       "\n",
       "    .dataframe tbody tr th {\n",
       "        vertical-align: top;\n",
       "    }\n",
       "\n",
       "    .dataframe thead th {\n",
       "        text-align: right;\n",
       "    }\n",
       "</style>\n",
       "<table border=\"1\" class=\"dataframe\">\n",
       "  <thead>\n",
       "    <tr style=\"text-align: right;\">\n",
       "      <th></th>\n",
       "      <th>Passenger_Trips</th>\n",
       "      <th>year</th>\n",
       "      <th>month</th>\n",
       "    </tr>\n",
       "    <tr>\n",
       "      <th>Year_Month_num</th>\n",
       "      <th></th>\n",
       "      <th></th>\n",
       "      <th></th>\n",
       "    </tr>\n",
       "  </thead>\n",
       "  <tbody>\n",
       "    <tr>\n",
       "      <th>2000-01-01</th>\n",
       "      <td>1195139</td>\n",
       "      <td>2000</td>\n",
       "      <td>Jan</td>\n",
       "    </tr>\n",
       "    <tr>\n",
       "      <th>2000-02-01</th>\n",
       "      <td>1170720</td>\n",
       "      <td>2000</td>\n",
       "      <td>Feb</td>\n",
       "    </tr>\n",
       "    <tr>\n",
       "      <th>2000-03-01</th>\n",
       "      <td>1293380</td>\n",
       "      <td>2000</td>\n",
       "      <td>Mar</td>\n",
       "    </tr>\n",
       "    <tr>\n",
       "      <th>2000-04-01</th>\n",
       "      <td>1238318</td>\n",
       "      <td>2000</td>\n",
       "      <td>Apr</td>\n",
       "    </tr>\n",
       "    <tr>\n",
       "      <th>2000-05-01</th>\n",
       "      <td>1212144</td>\n",
       "      <td>2000</td>\n",
       "      <td>May</td>\n",
       "    </tr>\n",
       "  </tbody>\n",
       "</table>\n",
       "</div>"
      ],
      "text/plain": [
       "                Passenger_Trips  year month\n",
       "Year_Month_num                             \n",
       "2000-01-01              1195139  2000   Jan\n",
       "2000-02-01              1170720  2000   Feb\n",
       "2000-03-01              1293380  2000   Mar\n",
       "2000-04-01              1238318  2000   Apr\n",
       "2000-05-01              1212144  2000   May"
      ]
     },
     "execution_count": 103,
     "metadata": {},
     "output_type": "execute_result"
    }
   ],
   "source": [
    "\n",
    "temp['year'] = [d.year for d in temp.index]\n",
    "temp['month'] = [d.strftime('%b') for d in temp.index]\n",
    "years = temp['year'].unique()\n",
    "temp = temp[temp[\"year\"] > 1999]\n",
    "temp.head()"
   ]
  },
  {
   "cell_type": "code",
   "execution_count": null,
   "metadata": {},
   "outputs": [],
   "source": []
  },
  {
   "cell_type": "code",
   "execution_count": 104,
   "metadata": {},
   "outputs": [
    {
     "data": {
      "image/png": "[encoded data removed]",
      "text/plain": [
       "<Figure size 1600x560 with 2 Axes>"
      ]
     },
     "metadata": {
      "needs_background": "light"
     },
     "output_type": "display_data"
    }
   ],
   "source": [
    "fig, axes = plt.subplots(1, 2, figsize=(20,7), dpi= 80)\n",
    "sns.boxplot(x='year', y='Passenger_Trips', data=temp,\n",
    "            ax=axes[0])\n",
    "sns.boxplot(x='month', y='Passenger_Trips', data=temp)\n",
    "axes[0].set_title('Year-wise Box Plot\\n(The Trend)', fontsize=18); \n",
    "axes[1].set_title('Month-wise Box Plot\\n(The Seasonality)', fontsize=18)\n",
    "plt.show()"
   ]
  },
  {
   "cell_type": "code",
   "execution_count": null,
   "metadata": {},
   "outputs": [],
   "source": []
  },
  {
   "cell_type": "code",
   "execution_count": null,
   "metadata": {},
   "outputs": [],
   "source": []
  },
  {
   "cell_type": "code",
   "execution_count": null,
   "metadata": {},
   "outputs": [],
   "source": []
  },
  {
   "cell_type": "code",
   "execution_count": null,
   "metadata": {},
   "outputs": [],
   "source": []
  },
  {
   "cell_type": "code",
   "execution_count": null,
   "metadata": {},
   "outputs": [],
   "source": []
  },
  {
   "cell_type": "code",
   "execution_count": 19,
   "metadata": {},
   "outputs": [
    {
     "data": {
      "text/html": [
       "<div>\n",
       "<style scoped>\n",
       "    .dataframe tbody tr th:only-of-type {\n",
       "        vertical-align: middle;\n",
       "    }\n",
       "\n",
       "    .dataframe tbody tr th {\n",
       "        vertical-align: top;\n",
       "    }\n",
       "\n",
       "    .dataframe thead th {\n",
       "        text-align: right;\n",
       "    }\n",
       "</style>\n",
       "<table border=\"1\" class=\"dataframe\">\n",
       "  <thead>\n",
       "    <tr style=\"text-align: right;\">\n",
       "      <th></th>\n",
       "      <th>seas</th>\n",
       "      <th>trend</th>\n",
       "      <th>resid</th>\n",
       "      <th>actual_values</th>\n",
       "    </tr>\n",
       "    <tr>\n",
       "      <th>Year_Month_num</th>\n",
       "      <th></th>\n",
       "      <th></th>\n",
       "      <th></th>\n",
       "      <th></th>\n",
       "    </tr>\n",
       "  </thead>\n",
       "  <tbody>\n",
       "    <tr>\n",
       "      <th>1984-01-01</th>\n",
       "      <td>0.890654</td>\n",
       "      <td>742292.936966</td>\n",
       "      <td>1.210858</td>\n",
       "      <td>800530.0</td>\n",
       "    </tr>\n",
       "    <tr>\n",
       "      <th>1984-02-01</th>\n",
       "      <td>0.785285</td>\n",
       "      <td>747046.135684</td>\n",
       "      <td>1.125536</td>\n",
       "      <td>660289.0</td>\n",
       "    </tr>\n",
       "    <tr>\n",
       "      <th>1984-03-01</th>\n",
       "      <td>0.870509</td>\n",
       "      <td>751799.334402</td>\n",
       "      <td>1.130395</td>\n",
       "      <td>739785.0</td>\n",
       "    </tr>\n",
       "    <tr>\n",
       "      <th>1984-04-01</th>\n",
       "      <td>0.835762</td>\n",
       "      <td>756552.533120</td>\n",
       "      <td>1.219008</td>\n",
       "      <td>770776.0</td>\n",
       "    </tr>\n",
       "    <tr>\n",
       "      <th>1984-05-01</th>\n",
       "      <td>0.805482</td>\n",
       "      <td>761305.731838</td>\n",
       "      <td>1.326310</td>\n",
       "      <td>813317.0</td>\n",
       "    </tr>\n",
       "  </tbody>\n",
       "</table>\n",
       "</div>"
      ],
      "text/plain": [
       "                    seas          trend     resid  actual_values\n",
       "Year_Month_num                                                  \n",
       "1984-01-01      0.890654  742292.936966  1.210858       800530.0\n",
       "1984-02-01      0.785285  747046.135684  1.125536       660289.0\n",
       "1984-03-01      0.870509  751799.334402  1.130395       739785.0\n",
       "1984-04-01      0.835762  756552.533120  1.219008       770776.0\n",
       "1984-05-01      0.805482  761305.731838  1.326310       813317.0"
      ]
     },
     "execution_count": 19,
     "metadata": {},
     "output_type": "execute_result"
    }
   ],
   "source": [
    "# Multiplicative was better -\n",
    "# Extract the Components ----\n",
    "# Actual Values = Product of (Seasonal * Trend * Resid)\n",
    "df_reconstructed = pd.concat([result_mul.seasonal, result_mul.trend, result_mul.resid, result_mul.observed], axis=1)\n",
    "df_reconstructed.columns = ['seas', 'trend', 'resid', 'actual_values']\n",
    "df_reconstructed.head()"
   ]
  },
  {
   "cell_type": "code",
   "execution_count": 20,
   "metadata": {},
   "outputs": [
    {
     "data": {
      "text/plain": [
       "(-4.720760823688771,\n",
       " 7.691193480342379e-05,\n",
       " 18,\n",
       " 425,\n",
       " {'1%': -3.445830555854264,\n",
       "  '5%': -2.8683646683004276,\n",
       "  '10%': -2.570405316262976},\n",
       " 1190.3908160156748)"
      ]
     },
     "execution_count": 20,
     "metadata": {},
     "output_type": "execute_result"
    }
   ],
   "source": [
    "# Checking with adfuller - \n",
    "adfuller(df_reconstructed[\"resid\"])"
   ]
  },
  {
   "cell_type": "code",
   "execution_count": null,
   "metadata": {},
   "outputs": [],
   "source": []
  },
  {
   "cell_type": "code",
   "execution_count": null,
   "metadata": {},
   "outputs": [],
   "source": []
  },
  {
   "cell_type": "code",
   "execution_count": null,
   "metadata": {},
   "outputs": [],
   "source": []
  },
  {
   "cell_type": "code",
   "execution_count": null,
   "metadata": {},
   "outputs": [],
   "source": []
  },
  {
   "cell_type": "code",
   "execution_count": 26,
   "metadata": {},
   "outputs": [
    {
     "name": "stdout",
     "output_type": "stream",
     "text": [
      "ADF Statistic: -1.628507893046367\n",
      "p-value: 0.4682718378496302\n",
      "\n",
      "KPSS Statistic: 2.109835\n",
      "p-value: 0.010000\n"
     ]
    },
    {
     "name": "stderr",
     "output_type": "stream",
     "text": [
      "/Users/riteshsuhag/opt/anaconda3/lib/python3.8/site-packages/statsmodels/tsa/stattools.py:1843: FutureWarning: The behavior of using nlags=None will change in release 0.13.Currently nlags=None is the same as nlags=\"legacy\", and so a sample-size lag length is used. After the next release, the default will change to be the same as nlags=\"auto\" which uses an automatic lag length selection method. To silence this warning, either use \"auto\" or \"legacy\"\n",
      "  warnings.warn(msg, FutureWarning)\n",
      "/Users/riteshsuhag/opt/anaconda3/lib/python3.8/site-packages/statsmodels/tsa/stattools.py:1874: InterpolationWarning: The test statistic is outside of the range of p-values available in the\n",
      "look-up table. The actual p-value is smaller than the p-value returned.\n",
      "\n",
      "  warnings.warn(warn_msg.format(direction=\"smaller\"), InterpolationWarning)\n"
     ]
    }
   ],
   "source": [
    "# Statistically checking for stationarity - \n",
    "from statsmodels.tsa.stattools import adfuller, kpss\n",
    "\n",
    "# ADF Test\n",
    "result = adfuller(total_passengers[\"Passenger_Trips\"].values, autolag='AIC')\n",
    "print(f'ADF Statistic: {result[0]}')\n",
    "print(f'p-value: {result[1]}')\n",
    "\n",
    "# KPSS Test\n",
    "result = kpss(total_passengers[\"Passenger_Trips\"].values, regression='c')\n",
    "print('\\nKPSS Statistic: %f' % result[0])\n",
    "print('p-value: %f' % result[1])\n"
   ]
  },
  {
   "cell_type": "code",
   "execution_count": null,
   "metadata": {},
   "outputs": [],
   "source": [
    "# We can see that the series is not stationary."
   ]
  },
  {
   "cell_type": "code",
   "execution_count": null,
   "metadata": {},
   "outputs": [],
   "source": [
    "# De-trending the time-series using stats_model component."
   ]
  },
  {
   "cell_type": "code",
   "execution_count": null,
   "metadata": {},
   "outputs": [],
   "source": []
  },
  {
   "cell_type": "code",
   "execution_count": null,
   "metadata": {},
   "outputs": [],
   "source": []
  },
  {
   "cell_type": "code",
   "execution_count": null,
   "metadata": {},
   "outputs": [],
   "source": []
  },
  {
   "cell_type": "code",
   "execution_count": null,
   "metadata": {},
   "outputs": [],
   "source": []
  },
  {
   "cell_type": "code",
   "execution_count": null,
   "metadata": {},
   "outputs": [],
   "source": []
  },
  {
   "cell_type": "code",
   "execution_count": null,
   "metadata": {},
   "outputs": [],
   "source": []
  },
  {
   "cell_type": "code",
   "execution_count": null,
   "metadata": {},
   "outputs": [],
   "source": []
  },
  {
   "cell_type": "code",
   "execution_count": null,
   "metadata": {},
   "outputs": [],
   "source": [
    "# airline_data.head()\n",
    "agg_data = airline_data.groupby([\"Year\", \"Month_num\"]).agg({\"Passenger_Trips\" : \"sum\"}).reset_index()\n",
    "agg_data.head()\n",
    "plt.plot(agg_data[\"Passenger_Trips\"])"
   ]
  },
  {
   "cell_type": "code",
   "execution_count": null,
   "metadata": {},
   "outputs": [],
   "source": []
  },
  {
   "cell_type": "code",
   "execution_count": null,
   "metadata": {},
   "outputs": [],
   "source": []
  },
  {
   "cell_type": "code",
   "execution_count": null,
   "metadata": {},
   "outputs": [],
   "source": []
  },
  {
   "cell_type": "code",
   "execution_count": null,
   "metadata": {},
   "outputs": [],
   "source": []
  },
  {
   "cell_type": "code",
   "execution_count": null,
   "metadata": {},
   "outputs": [],
   "source": []
  },
  {
   "cell_type": "code",
   "execution_count": null,
   "metadata": {},
   "outputs": [],
   "source": []
  }
 ],
 "metadata": {
  "kernelspec": {
   "display_name": "Python 3",
   "language": "python",
   "name": "python3"
  },
  "language_info": {
   "codemirror_mode": {
    "name": "ipython",
    "version": 3
   },
   "file_extension": ".py",
   "mimetype": "text/x-python",
   "name": "python",
   "nbconvert_exporter": "python",
   "pygments_lexer": "ipython3",
   "version": "3.8.5"
  }
 },
 "nbformat": 4,
 "nbformat_minor": 4
}
